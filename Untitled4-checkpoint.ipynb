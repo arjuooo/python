{
 "cells": [
  {
   "cell_type": "code",
   "execution_count": 1,
   "id": "7496a649-6a08-405b-8a51-352cf25020cf",
   "metadata": {},
   "outputs": [],
   "source": [
    "import tkinter\n",
    "root = tkinter.Tk()\n",
    "root.title(\"My First Tkinter App\")\n",
    "a =tkinter.Label(root, text=\"Hello, World!\")  \n",
    "a.pack()\n",
    "root.mainloop()                                 "
   ]
  },
  {
   "cell_type": "code",
   "execution_count": 12,
   "id": "dca1ea92-f99a-430b-b8e1-35105f9ff7f7",
   "metadata": {},
   "outputs": [],
   "source": [
    "from tkinter import*\n",
    "root=Tk()\n",
    "root.geometry(\"100x100\")\n",
    "btn=Button(root,text='click me!',bd='5',command=root.destroy)\n",
    "btn.pack(side='top')\n",
    "root.mainloop()"
   ]
  },
  {
   "cell_type": "code",
   "execution_count": 15,
   "id": "2dfb7eda-33d4-4fa9-abb5-34cd1ec0960c",
   "metadata": {},
   "outputs": [],
   "source": [
    "from tkinter import*\n",
    "from tkinter.ttk import*\n",
    "root=Tk()\n",
    "root.geometry(\"100x100\")\n",
    "btn=Button(root,text='click me!',command=root.destroy)\n",
    "btn.pack(side='top')\n",
    "root.mainloop()"
   ]
  },
  {
   "cell_type": "code",
   "execution_count": 1,
   "id": "9ebde177-3fef-495a-b198-efb3adebe7a9",
   "metadata": {},
   "outputs": [
    {
     "data": {
      "text/plain": [
       "''"
      ]
     },
     "execution_count": 1,
     "metadata": {},
     "output_type": "execute_result"
    }
   ],
   "source": [
    "from tkinter import*\n",
    "from tkinter.ttk import*\n",
    "root=Tk()\n",
    "root.geometry(\"100x100\")"
   ]
  },
  {
   "cell_type": "code",
   "execution_count": 32,
   "id": "7b6776b3-bd55-48bf-aaac-042d861f02ba",
   "metadata": {},
   "outputs": [],
   "source": [
    "from tkinter import*\n",
    "from tkinter.ttk import*\n",
    "root=Tk()\n",
    "root.geometry(\"100x100\")\n",
    "style=Style()\n",
    "style.configure('W.TButton',font=('calibri',10,'bold','underline'),foreground=\"red\")\n",
    "btn1=Button(root,text=\"Quit !\",style=\"W.TButton\",command=root.destroy)\n",
    "btn1.grid(row=0,column=3,padx=20)\n",
    "btn2=Button(root,text=\"click me\",command=None)\n",
    "btn2.grid(row=1,column=3,pady=10,padx=100)\n",
    "root.mainloop()"
   ]
  },
  {
   "cell_type": "code",
   "execution_count": null,
   "id": "8b9c9ff4-453e-443d-90b2-e3c8e177d3ce",
   "metadata": {},
   "outputs": [],
   "source": [
    "from tkinter import*\n",
    "from tkinter.ttk import*\n",
    "root=Tk()\n",
    "root.geometry('50x50')\n",
    "style=Style()\n",
    "style.configure('TButton',font=('calibri',10,'bold','underline'),foreground=\"blue\")\n",
    "btn1=Button(root,text=\"Quite\",style=\"TButton\",command=root.destroy)\n",
    "btn1.grid(row=0,column=3,padx=20)\n",
    "btn2=Button(root,text='click me',command=None)\n",
    "btn2.grid(row=1,column=3,padx=10)\n",
    "root.mainloop()"
   ]
  },
  {
   "cell_type": "code",
   "execution_count": null,
   "id": "ada792ad-cae2-407d-af72-d1902f36e274",
   "metadata": {},
   "outputs": [],
   "source": [
    "from tkinter import Tk,mainloop,LEFT,TOP\n",
    "from tkinter.ttk import*\n",
    "root=Tk()\n",
    "root.geometry(\"100x100\")\n",
    "labelframe=Labelframe(root,text=\"this is frame label\")\n",
    "labelframe.pack(extand"
   ]
  },
  {
   "cell_type": "code",
   "execution_count": null,
   "id": "66b3067b-f9ac-4d79-b87e-be9ae6ebdbb0",
   "metadata": {},
   "outputs": [],
   "source": [
    "from tkinter import Tk\n",
    "from tkinter.ttk import Label, LabelFrame\n",
    "root=Tk()\n",
    "root.geometry(\"250x150\")\n",
    "labelframe=LabelFrame(root,text=\"This Is Frame Label\")\n",
    "labelframe.pack(expand='yes',fill=\"both\")\n",
    "label1=Label(labelframe,text=\"1 This is label\")\n",
    "label1.place(x=1,y=5)\n",
    "label2=Label(labelframe,text=\"2 This is another la\")\n",
    "label2.place(x=1,y=35)\n",
    "label3=Label(labelframe,text=\"3 We can add multiple \\n widget in it\")\n",
    "label3.place(x=1,y=65)\n",
    "root.mainloop()"
   ]
  },
  {
   "cell_type": "code",
   "execution_count": null,
   "id": "58242a5b-b087-4b82-8a06-39b72587104c",
   "metadata": {},
   "outputs": [],
   "source": []
  }
 ],
 "metadata": {
  "kernelspec": {
   "display_name": "Python 3 (ipykernel)",
   "language": "python",
   "name": "python3"
  },
  "language_info": {
   "codemirror_mode": {
    "name": "ipython",
    "version": 3
   },
   "file_extension": ".py",
   "mimetype": "text/x-python",
   "name": "python",
   "nbconvert_exporter": "python",
   "pygments_lexer": "ipython3",
   "version": "3.13.1"
  }
 },
 "nbformat": 4,
 "nbformat_minor": 5
}
